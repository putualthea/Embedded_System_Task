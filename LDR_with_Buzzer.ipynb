{
  "nbformat": 4,
  "nbformat_minor": 0,
  "metadata": {
    "colab": {
      "name": "LDR with Buzzer",
      "provenance": [],
      "authorship_tag": "ABX9TyNIszjWa01BYO9q9gRNMNK6",
      "include_colab_link": true
    },
    "kernelspec": {
      "name": "python3",
      "display_name": "Python 3"
    }
  },
  "cells": [
    {
      "cell_type": "markdown",
      "metadata": {
        "id": "view-in-github",
        "colab_type": "text"
      },
      "source": [
        "<a href=\"https://colab.research.google.com/github/putualthea/Embedded_System_Task/blob/main/LDR_with_Buzzer.ipynb\" target=\"_parent\"><img src=\"https://colab.research.google.com/assets/colab-badge.svg\" alt=\"Open In Colab\"/></a>"
      ]
    },
    {
      "cell_type": "code",
      "metadata": {
        "id": "4kDZjD-vJnrS"
      },
      "source": [
        "# Import library\n",
        "import RPi.GPIO as GPIO         # Menggunakan modul RPi.GPIO untuk mengontrol GPIO pada raspi\n",
        "import time                     # Import module time untuk delay script saat dibutuhkan\n",
        "from time import sleep          # Import modul delay\n",
        "\n",
        "# Deklarasi variabel\n",
        "GPIO.setmode(GPIO.BOARD)        # Deklarasi penomoran dari fisik pin, setmode digunakan untuk mengaktifkan penomoran yang dimaksud\n",
        "GPIO.setwarnings(False)         # Mematikan red warn pada serial print\n",
        "\n",
        "delayt = 5                      # Deklarasi variabel delay untuk jeda nyala mati lampu\n",
        "value = 0                       # Deklarasi nilai perhitungan dimulai dari \"0\"\n",
        "ldr = 16                        # Deklarasi pin pada sensor LDR\n",
        "lamp = 18                       # Deklarasi pin pada lampu\n",
        "buzzer = 22                     # Deklarasi pin untuk buzzer\n",
        "\n",
        "# Setting mode pin\n",
        "GPIO.setup(lamp, GPIO.OUT)      # Pin lampu(18) digunakan sebagai Output\n",
        "GPIO.setup(buzzer,GPIO.OUT)     # Pin buzzer(22) digunakan sebagai Output\n",
        "\n",
        "def rc_time(ldr):               # Function pada LDR untuk perhitungan dengan menginisiasi variabel count\n",
        "    count=0                     # Count dimulai dari O\n",
        "\n",
        "    # Output pin\n",
        "    GPIO.setup(ldr, GPIO.OUT)   # Mengatur pin LDR agar bertindak sebagai Output\n",
        "    GPIO.output(ldr, True)      # Pada output kondisi LDR menjadi False/Low\n",
        "    time.sleep(delayt)          # Mengaktifkan skrip delayt selama 3 detik\n",
        "\n",
        "    # Input pin\n",
        "    GPIO.setup(ldr, GPIO.IN)    # Mengatur pin LDR agar bertindak sebagai Input\n",
        "\n",
        "    # Pengaturan loop sementara sampai kondisi True/High\n",
        "    while(GPIO.input(ldr) == 0):\n",
        "        count +=1\n",
        "\n",
        "    return count\n",
        "\n",
        "try:\n",
        "    # Loop utama\n",
        "    while True:\n",
        "        print(\"Ldr value:\")\n",
        "        value = rc_time(ldr)\n",
        "        print(value)\n",
        "\n",
        "        if(value <=10000):                    # Kondisi sensor LDR saat tidak menangkap cahaya\n",
        "            print(\"lampu mati buzzer diam\")\n",
        "            GPIO.output(lamp, False)\n",
        "            GPIO.output(buzzer, GPIO.LOW) \n",
        "\n",
        "        if(value > 10000):                    # Kondisi sensor LDR saat menangkap cahaya\n",
        "            print(\"lampu nyala buzzer bunyi\")\n",
        "            GPIO.output(lamp, True)\n",
        "            GPIO.output(buzzer, GPIO.HIGH)\n",
        "\n",
        "finally:\n",
        "    GPIO.cleanup()\n",
        "\n",
        "\n"
      ],
      "execution_count": null,
      "outputs": []
    }
  ]
}