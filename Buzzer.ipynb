{
  "nbformat": 4,
  "nbformat_minor": 0,
  "metadata": {
    "colab": {
      "name": "Buzzer",
      "provenance": [],
      "authorship_tag": "ABX9TyNl+7hbOVyE2YzVrqHgrt0x",
      "include_colab_link": true
    },
    "kernelspec": {
      "name": "python3",
      "display_name": "Python 3"
    }
  },
  "cells": [
    {
      "cell_type": "markdown",
      "metadata": {
        "id": "view-in-github",
        "colab_type": "text"
      },
      "source": [
        "<a href=\"https://colab.research.google.com/github/putualthea/Embedded_System_Task/blob/main/Buzzer.ipynb\" target=\"_parent\"><img src=\"https://colab.research.google.com/assets/colab-badge.svg\" alt=\"Open In Colab\"/></a>"
      ]
    },
    {
      "cell_type": "code",
      "metadata": {
        "id": "h3AM8MIaJS7D"
      },
      "source": [
        "# Import library\n",
        "import RPi.GPIO as GPIO       # Menggunakan modul RPi.GPIO untuk mengontrol GPIO pada raspi      \n",
        "from time import sleep        # Import modul delay\n",
        "\n",
        "# Deklarasi variabel\n",
        "GPIO.setwarnings(False)       # Mematikan red warn pada serial print\n",
        "GPIO.setmode(GPIO.BOARD)      # Deklarasi penomoran dari fisik pin, setmode digunakan untuk mengaktifkan penomoran yang dimaksud\n",
        "\n",
        "buzzer=22                     # Deklarasi pin untuk buzzer\n",
        "\n",
        "# Setting mode pin\n",
        "GPIO.setup(buzzer,GPIO.OUT)   # Pin buzzer(22) digunakan sebagai Output\n",
        "\n",
        "while True:\n",
        "    # Loop utama\n",
        "    GPIO.output(buzzer, GPIO.HIGH)  # Saat buzzer keadaan HIGH/True maka akan menyala selama 1 detik\n",
        "    print(\"Bunyi\")\n",
        "    sleep(1)\n",
        "    GPIO.output(buzzer, GPIO.LOW)   # Saat buzzer keadaan LOW/False maka akan mati selama 2 detik\n",
        "    print(\"Diam\")\n",
        "    sleep(2)\n",
        "\n"
      ],
      "execution_count": null,
      "outputs": []
    }
  ]
}