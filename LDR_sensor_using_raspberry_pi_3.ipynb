{
  "nbformat": 4,
  "nbformat_minor": 0,
  "metadata": {
    "colab": {
      "name": "LDR sensor using raspberry pi 3",
      "provenance": [],
      "authorship_tag": "ABX9TyNC0xVC7dtq2VsmXp0ysHfQ",
      "include_colab_link": true
    },
    "kernelspec": {
      "name": "python3",
      "display_name": "Python 3"
    }
  },
  "cells": [
    {
      "cell_type": "markdown",
      "metadata": {
        "id": "view-in-github",
        "colab_type": "text"
      },
      "source": [
        "<a href=\"https://colab.research.google.com/github/putualthea/Embedded_System_Task/blob/main/LDR_sensor_using_raspberry_pi_3.ipynb\" target=\"_parent\"><img src=\"https://colab.research.google.com/assets/colab-badge.svg\" alt=\"Open In Colab\"/></a>"
      ]
    },
    {
      "cell_type": "code",
      "metadata": {
        "id": "-PPVYirIQ_45"
      },
      "source": [
        "# Import library\n",
        "import RPi.GPIO as GPIO       # Menggunakan modul RPi.GPIO untuk mengontrol GPIO pada raspi\n",
        "import time                   # Import module time untuk delay script saat dibutuhkan\n",
        "\n",
        "# Deklarasi variabel\n",
        "GPIO.setmode(GPIO.BOARD)      # Deklarasi penomoran dari fisik pin, setmode digunakan untuk mengaktifkan penomoran yang dimaksud\n",
        "delayt = 3                    # Deklarasi variabel delay untuk jeda nyala mati lampu\n",
        "value = 0                     # Deklarasi nilai perhitungan dimulai dari \"0\"\n",
        "ldr = 16                      # Deklarasi pin pada sensor LDR\n",
        "lamp = 18                     # Deklarasi pin pada lampu\n",
        "\n",
        "# Setting mode pin\n",
        "GPIO.setup(lamp, GPIO.OUT)    # Pin lampu(18) digunakan sebagai Output\n",
        "\n",
        "# Digital output\n",
        "GPIO.output(lamp, False)      # Untuk menuliskan value High/Low bisa juga pakai True/False\n",
        "\n",
        "def rc_time(ldr):             # Function pada LDR untuk perhitungan dengan menginisiasi variabel count\n",
        "\tcount=0                     # Count dimulai dari O\n",
        "\n",
        "\t# Output pin\n",
        "  GPIO.setup(ldr, GPIO.OUT)   # Mengatur pin LDR agar bertindak sebagai Output\n",
        "\tGPIO.output(ldr, True)      # Pada output kondisi LDR menjadi False/Low\n",
        "\ttime.sleep(delayt)          # Mengaktifkan skrip delayt selama 3 detik\n",
        "\n",
        "\t# Input pin\n",
        "  GPIO.setup(ldr, GPIO.IN)    # Mengatur pin LDR agar bertindak sebagai Input\n",
        "\n",
        "\t# Pengaturan loop sementara sampai kondisi True/High\n",
        "  while(GPIO.input(ldr) == 0):\n",
        "\t\tcount +=1\n",
        "\n",
        "\treturn count\n",
        "\n",
        "try:\n",
        "  # Loop utama\n",
        "\twhile True:                 # Ketika sudah sampai kondisi True/High maka akan pindah ke loop utama                   \n",
        "\t\tprint(\"Ldr value:\")\n",
        "\t\tvalue = rc_time(ldr)\n",
        "\t\tprint(value)\n",
        "\n",
        "\t\tif(value <=10000):\n",
        "\t\t\tprint(\"lampu mati\")\n",
        "\t\t\tGPIO.output(lamp, False)\n",
        "\n",
        "\t\tif(value > 10000):\n",
        "\t\t\tprint(\"lampu nyala\")\n",
        "\t\t\tGPIO.output(lamp, True)\n",
        "\n",
        "finally:\n",
        "\tGPIO.cleanup()"
      ],
      "execution_count": null,
      "outputs": []
    }
  ]
}